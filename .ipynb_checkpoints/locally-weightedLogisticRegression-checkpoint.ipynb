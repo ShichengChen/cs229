{
 "cells": [
  {
   "cell_type": "code",
   "execution_count": 2,
   "metadata": {
    "ExecuteTime": {
     "end_time": "2017-12-22T09:13:58.958269Z",
     "start_time": "2017-12-22T09:13:58.520329Z"
    },
    "collapsed": true
   },
   "outputs": [],
   "source": [
    "import numpy as np\n",
    "import matplotlib.pyplot as plt\n",
    "import pandas as pd"
   ]
  },
  {
   "cell_type": "code",
   "execution_count": 101,
   "metadata": {
    "ExecuteTime": {
     "end_time": "2017-12-22T15:07:57.363445Z",
     "start_time": "2017-12-22T15:07:57.221136Z"
    }
   },
   "outputs": [
    {
     "name": "stdout",
     "output_type": "stream",
     "text": [
      "(80, 2)\n"
     ]
    },
    {
     "data": {
      "image/png": "[encoded data removed]",
      "text/plain": [
       "<matplotlib.figure.Figure at 0x7fc0222c6a58>"
      ]
     },
     "metadata": {},
     "output_type": "display_data"
    }
   ],
   "source": [
    "x0 = (np.random.rand(40,2)+2)*3\n",
    "x1 = (np.random.rand(40,2)+1.5)*3\n",
    "xtr = np.concatenate((x0,x1),axis=0)\n",
    "print (x.shape)\n",
    "ytr = np.array([0]*40+[1]*40)\n",
    "plt.scatter(x[:,0],x[:,1],s=50,c=y)\n",
    "plt.show()"
   ]
  },
  {
   "cell_type": "code",
   "execution_count": 230,
   "metadata": {
    "ExecuteTime": {
     "end_time": "2017-12-22T15:40:13.391361Z",
     "start_time": "2017-12-22T15:40:13.359182Z"
    },
    "collapsed": true
   },
   "outputs": [],
   "source": [
    "def lwlr(xtr,ytr,xt,tau):\n",
    "    m,n=xtr.shape\n",
    "    theta=np.zeros(n)\n",
    "    w=np.exp(-np.sum((xtr-xt)**2,axis=1)/(2*tau))\n",
    "    #print ((xtr-xt).shape)\n",
    "    #print(w.shape)\n",
    "    d = np.ones(n)\n",
    "    while(np.linalg.norm(d)>1e-6):\n",
    "        h = 1.0 / (1+np.exp(-xtr.dot(theta)))\n",
    "        #print (h)\n",
    "        #print (h.shape)\n",
    "        #print (xtr.dot(theta).shape)\n",
    "        #print (h.shape)\n",
    "        #print ((ytr-h).shape)\n",
    "        #print ((w*(ytr-h)).shape)\n",
    "        #print ((xtr.T).shape)\n",
    "        #print (xtr.T.dot(w*(ytr-h)).shape)\n",
    "        d = xtr.T.dot(w*(ytr-h))-(1e-4)*theta\n",
    "        #print (d.shape)\n",
    "        #print ((np.diag(-w*h*(1-h))).shape)\n",
    "        H = (xtr.T.dot(np.diag(-w*h*(1-h)))).dot(xtr)-(1e-4)*np.identity(n)\n",
    "        theta = theta - np.linalg.inv(H).dot(d)\n",
    "        #print (theta.shape)\n",
    "        #print ('----')\n",
    "    \n",
    "    return np.sum(xt.dot(theta)>0)"
   ]
  },
  {
   "cell_type": "code",
   "execution_count": 231,
   "metadata": {
    "ExecuteTime": {
     "end_time": "2017-12-22T15:40:13.672260Z",
     "start_time": "2017-12-22T15:40:13.667259Z"
    }
   },
   "outputs": [
    {
     "data": {
      "text/plain": [
       "1"
      ]
     },
     "execution_count": 231,
     "metadata": {},
     "output_type": "execute_result"
    }
   ],
   "source": [
    "lwlr(xtr,ytr,np.array([5,5]),0.1)"
   ]
  },
  {
   "cell_type": "code",
   "execution_count": 232,
   "metadata": {
    "ExecuteTime": {
     "end_time": "2017-12-22T15:40:14.182639Z",
     "start_time": "2017-12-22T15:40:14.177584Z"
    }
   },
   "outputs": [
    {
     "data": {
      "text/plain": [
       "0"
      ]
     },
     "execution_count": 232,
     "metadata": {},
     "output_type": "execute_result"
    }
   ],
   "source": [
    "lwlr(xtr,ytr,np.array([9,9]),0.01)"
   ]
  },
  {
   "cell_type": "code",
   "execution_count": 233,
   "metadata": {
    "ExecuteTime": {
     "end_time": "2017-12-22T15:40:15.296362Z",
     "start_time": "2017-12-22T15:40:15.292813Z"
    }
   },
   "outputs": [],
   "source": [
    "tnum = 100\n",
    "pre = 0.1\n",
    "testx0 = [i*pre for i*pre in range(tnum)]*tnum\n",
    "testx1 = [tnum*[i*pre] for i*pre in range(tnum)]"
   ]
  },
  {
   "cell_type": "code",
   "execution_count": 234,
   "metadata": {
    "ExecuteTime": {
     "end_time": "2017-12-22T15:40:15.910166Z",
     "start_time": "2017-12-22T15:40:15.904952Z"
    }
   },
   "outputs": [
    {
     "data": {
      "text/plain": [
       "(100, 2)"
      ]
     },
     "execution_count": 234,
     "metadata": {},
     "output_type": "execute_result"
    }
   ],
   "source": [
    "testx0 = np.array(testx0).reshape(-1,1)\n",
    "testx1 = np.array(testx1).reshape(-1,1)\n",
    "testx = np.concatenate((testx0,testx1),axis=1)\n",
    "testx.shape"
   ]
  },
  {
   "cell_type": "code",
   "execution_count": 235,
   "metadata": {
    "ExecuteTime": {
     "end_time": "2017-12-22T15:40:16.359107Z",
     "start_time": "2017-12-22T15:40:16.327661Z"
    }
   },
   "outputs": [],
   "source": [
    "testy = [0]*tnum*tnum\n",
    "for i in range(1,tnum*tnum):\n",
    "    #print(i)\n",
    "    #print(xtr.shape)\n",
    "    testy[i] = lwlr(xtr,ytr,testx[i],0.01)"
   ]
  },
  {
   "cell_type": "code",
   "execution_count": 236,
   "metadata": {
    "ExecuteTime": {
     "end_time": "2017-12-22T15:40:16.770728Z",
     "start_time": "2017-12-22T15:40:16.766443Z"
    }
   },
   "outputs": [
    {
     "data": {
      "text/plain": [
       "56"
      ]
     },
     "execution_count": 236,
     "metadata": {},
     "output_type": "execute_result"
    }
   ],
   "source": [
    "(np.array(testy)>0.5).sum()"
   ]
  },
  {
   "cell_type": "code",
   "execution_count": 237,
   "metadata": {
    "ExecuteTime": {
     "end_time": "2017-12-22T15:40:17.436656Z",
     "start_time": "2017-12-22T15:40:17.343116Z"
    }
   },
   "outputs": [
    {
     "data": {
      "image/png": "[encoded data removed]",
      "text/plain": [
       "<matplotlib.figure.Figure at 0x7fc022806630>"
      ]
     },
     "metadata": {},
     "output_type": "display_data"
    }
   ],
   "source": [
    "plt.scatter(testx[:,0],testx[:,1],s=1,c=testy)\n",
    "plt.show()"
   ]
  },
  {
   "cell_type": "code",
   "execution_count": null,
   "metadata": {
    "collapsed": true
   },
   "outputs": [],
   "source": []
  }
 ],
 "metadata": {
  "kernelspec": {
   "display_name": "Python 3",
   "language": "python",
   "name": "python3"
  },
  "language_info": {
   "codemirror_mode": {
    "name": "ipython",
    "version": 3
   },
   "file_extension": ".py",
   "mimetype": "text/x-python",
   "name": "python",
   "nbconvert_exporter": "python",
   "pygments_lexer": "ipython3",
   "version": "3.6.3"
  }
 },
 "nbformat": 4,
 "nbformat_minor": 2
}
